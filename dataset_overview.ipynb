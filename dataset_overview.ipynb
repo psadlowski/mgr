{
 "cells": [
  {
   "cell_type": "code",
   "execution_count": 1,
   "metadata": {},
   "outputs": [],
   "source": [
    "import pandas as pd\n",
    "import numpy as np\n",
    "import seaborn as sns"
   ]
  },
  {
   "cell_type": "code",
   "execution_count": 16,
   "metadata": {},
   "outputs": [],
   "source": [
    "from matplotlib import pyplot as plt"
   ]
  },
  {
   "cell_type": "markdown",
   "metadata": {},
   "source": [
    "Read in transaction and item data, merge"
   ]
  },
  {
   "cell_type": "code",
   "execution_count": 2,
   "metadata": {},
   "outputs": [],
   "source": [
    "trans = pd.read_csv('D:/mgr/amexpert/customer_transaction_data.csv')"
   ]
  },
  {
   "cell_type": "code",
   "execution_count": 3,
   "metadata": {},
   "outputs": [],
   "source": [
    "items = pd.read_csv('D:/mgr/amexpert/item_data.csv')"
   ]
  },
  {
   "cell_type": "code",
   "execution_count": 4,
   "metadata": {},
   "outputs": [],
   "source": [
    "data = pd.merge(trans, items, on='item_id', how='left')"
   ]
  },
  {
   "cell_type": "markdown",
   "metadata": {},
   "source": [
    "Category sizes"
   ]
  },
  {
   "cell_type": "code",
   "execution_count": 5,
   "metadata": {},
   "outputs": [
    {
     "data": {
      "text/plain": [
       "category\n",
       "Alcohol                     1343\n",
       "Bakery                     18218\n",
       "Dairy, Juices & Snacks     20465\n",
       "Flowers & Plants            1602\n",
       "Fuel                       13797\n",
       "Garden                       413\n",
       "Grocery                   942176\n",
       "Meat                       23056\n",
       "Miscellaneous               3197\n",
       "Natural Products           52981\n",
       "Packaged Meat              66110\n",
       "Pharmaceutical            155245\n",
       "Prepared Food              13069\n",
       "Restauarant                  211\n",
       "Salads                       429\n",
       "Seafood                     7043\n",
       "Skin & Hair Care            4868\n",
       "Travel                       247\n",
       "Vegetables (cut)              96\n",
       "dtype: int64"
      ]
     },
     "execution_count": 5,
     "metadata": {},
     "output_type": "execute_result"
    }
   ],
   "source": [
    "data.groupby('category').size()"
   ]
  },
  {
   "cell_type": "code",
   "execution_count": 6,
   "metadata": {},
   "outputs": [],
   "source": [
    "meat = data.loc[data['category'] == 'Packaged Meat', :]"
   ]
  },
  {
   "cell_type": "markdown",
   "metadata": {},
   "source": [
    "Packaged meat category overview: # of unique records per column (variable)"
   ]
  },
  {
   "cell_type": "code",
   "execution_count": 7,
   "metadata": {},
   "outputs": [
    {
     "data": {
      "text/plain": [
       "date                548\n",
       "customer_id        1560\n",
       "item_id            1966\n",
       "quantity             14\n",
       "selling_price       610\n",
       "other_discount      427\n",
       "coupon_discount      30\n",
       "brand               143\n",
       "brand_type            2\n",
       "category              1\n",
       "dtype: int64"
      ]
     },
     "execution_count": 7,
     "metadata": {},
     "output_type": "execute_result"
    }
   ],
   "source": [
    "meat.apply(lambda x: len(x.unique()), 0)"
   ]
  },
  {
   "cell_type": "markdown",
   "metadata": {},
   "source": [
    "Read in customer demographics and merge"
   ]
  },
  {
   "cell_type": "code",
   "execution_count": 8,
   "metadata": {},
   "outputs": [],
   "source": [
    "cust_info = pd.read_csv('D:/mgr/amexpert/customer_demographics.csv')"
   ]
  },
  {
   "cell_type": "code",
   "execution_count": 9,
   "metadata": {},
   "outputs": [],
   "source": [
    "data = pd.merge(meat, cust_info, how='left', on='customer_id')"
   ]
  },
  {
   "cell_type": "code",
   "execution_count": 10,
   "metadata": {},
   "outputs": [
    {
     "data": {
      "text/plain": [
       "(66110, 16)"
      ]
     },
     "execution_count": 10,
     "metadata": {},
     "output_type": "execute_result"
    }
   ],
   "source": [
    "data.shape"
   ]
  },
  {
   "cell_type": "code",
   "execution_count": 11,
   "metadata": {},
   "outputs": [
    {
     "data": {
      "text/plain": [
       "date               0.000000\n",
       "customer_id        0.000000\n",
       "item_id            0.000000\n",
       "quantity           0.000000\n",
       "selling_price      0.000000\n",
       "other_discount     0.000000\n",
       "coupon_discount    0.000000\n",
       "brand              0.000000\n",
       "brand_type         0.000000\n",
       "category           0.000000\n",
       "age_range          0.437180\n",
       "marital_status     0.689351\n",
       "rented             0.437180\n",
       "family_size        0.437180\n",
       "no_of_children     0.800015\n",
       "income_bracket     0.437180\n",
       "dtype: float64"
      ]
     },
     "execution_count": 11,
     "metadata": {},
     "output_type": "execute_result"
    }
   ],
   "source": [
    "data.apply(lambda x: x.isna().mean(), 0)"
   ]
  },
  {
   "cell_type": "markdown",
   "metadata": {},
   "source": [
    "Leaving customers with complete demographics will cut dataset size by 43% (excluding marital status). # of children is to an extent redundant with family size"
   ]
  },
  {
   "cell_type": "code",
   "execution_count": 12,
   "metadata": {},
   "outputs": [],
   "source": [
    "pure = data.dropna(subset=['age_range'])"
   ]
  },
  {
   "cell_type": "code",
   "execution_count": 13,
   "metadata": {},
   "outputs": [
    {
     "data": {
      "text/plain": [
       "date               0.000000\n",
       "customer_id        0.000000\n",
       "item_id            0.000000\n",
       "quantity           0.000000\n",
       "selling_price      0.000000\n",
       "other_discount     0.000000\n",
       "coupon_discount    0.000000\n",
       "brand              0.000000\n",
       "brand_type         0.000000\n",
       "category           0.000000\n",
       "age_range          0.000000\n",
       "marital_status     0.448049\n",
       "rented             0.000000\n",
       "family_size        0.000000\n",
       "no_of_children     0.644673\n",
       "income_bracket     0.000000\n",
       "dtype: float64"
      ]
     },
     "execution_count": 13,
     "metadata": {},
     "output_type": "execute_result"
    }
   ],
   "source": [
    "pure.apply(lambda x: x.isna().mean(), 0)"
   ]
  },
  {
   "cell_type": "code",
   "execution_count": 37,
   "metadata": {},
   "outputs": [
    {
     "data": {
      "text/plain": [
       "(37208, 16)"
      ]
     },
     "execution_count": 37,
     "metadata": {},
     "output_type": "execute_result"
    }
   ],
   "source": [
    "pure.shape"
   ]
  },
  {
   "cell_type": "markdown",
   "metadata": {},
   "source": [
    "This operation leaves >37k rows in the dataset. # of unique entries in each column presented below"
   ]
  },
  {
   "cell_type": "code",
   "execution_count": 14,
   "metadata": {},
   "outputs": [
    {
     "data": {
      "text/plain": [
       "date                547\n",
       "customer_id         751\n",
       "item_id            1450\n",
       "quantity             13\n",
       "selling_price       513\n",
       "other_discount      364\n",
       "coupon_discount      27\n",
       "brand               127\n",
       "brand_type            2\n",
       "category              1\n",
       "age_range             6\n",
       "marital_status        3\n",
       "rented                2\n",
       "family_size           5\n",
       "no_of_children        4\n",
       "income_bracket       12\n",
       "dtype: int64"
      ]
     },
     "execution_count": 14,
     "metadata": {},
     "output_type": "execute_result"
    }
   ],
   "source": [
    "pure.apply(lambda x: len(x.unique()), 0)"
   ]
  },
  {
   "cell_type": "code",
   "execution_count": 21,
   "metadata": {},
   "outputs": [
    {
     "data": {
      "image/png": "[encoded data removed]",
      "text/plain": [
       "<Figure size 1080x360 with 1 Axes>"
      ]
     },
     "metadata": {
      "needs_background": "light"
     },
     "output_type": "display_data"
    }
   ],
   "source": [
    "plt.figure(figsize = (15,5))\n",
    "sns.distplot(pure.groupby('item_id').size())\n",
    "plt.title('# of sales transactions per product, distribution plot');"
   ]
  },
  {
   "cell_type": "markdown",
   "metadata": {},
   "source": [
    "There are plenty of products with more than 100 sales transactions in the sample."
   ]
  },
  {
   "cell_type": "code",
   "execution_count": 22,
   "metadata": {},
   "outputs": [
    {
     "data": {
      "image/png": "[encoded data removed]",
      "text/plain": [
       "<Figure size 1080x360 with 1 Axes>"
      ]
     },
     "metadata": {
      "needs_background": "light"
     },
     "output_type": "display_data"
    }
   ],
   "source": [
    "plt.figure(figsize = (15,5))\n",
    "sns.distplot(pure.groupby('customer_id').size())\n",
    "plt.title('# of observations per customer, distribution plot');"
   ]
  },
  {
   "cell_type": "markdown",
   "metadata": {},
   "source": [
    "Filtering out customers with less than 3 sales transactions (some of the reference price measures proposed in the literature are history-based) is not expected to materially change sample size."
   ]
  },
  {
   "cell_type": "markdown",
   "metadata": {},
   "source": [
    "**Dropping customers with less than 3 sales transactions in \"Packaged Meat\" category**"
   ]
  },
  {
   "cell_type": "code",
   "execution_count": 53,
   "metadata": {},
   "outputs": [],
   "source": [
    "pure = pd.merge(pure, pure.groupby('customer_id').size().rename('n_trips'), how='left', on='customer_id')"
   ]
  },
  {
   "cell_type": "code",
   "execution_count": 55,
   "metadata": {},
   "outputs": [],
   "source": [
    "pure = pure.loc[pure['n_trips'] > 2, :]"
   ]
  },
  {
   "cell_type": "markdown",
   "metadata": {},
   "source": [
    "Characteristics of the reduced dataset"
   ]
  },
  {
   "cell_type": "code",
   "execution_count": 56,
   "metadata": {},
   "outputs": [
    {
     "data": {
      "text/plain": [
       "date                547\n",
       "customer_id         742\n",
       "item_id            1450\n",
       "quantity             13\n",
       "selling_price       513\n",
       "other_discount      364\n",
       "coupon_discount      27\n",
       "brand               127\n",
       "brand_type            2\n",
       "category              1\n",
       "age_range             6\n",
       "marital_status        2\n",
       "rented                2\n",
       "family_size           5\n",
       "no_of_children        3\n",
       "income_bracket       12\n",
       "n_trips             145\n",
       "dtype: int64"
      ]
     },
     "execution_count": 56,
     "metadata": {},
     "output_type": "execute_result"
    }
   ],
   "source": [
    "pure.apply(lambda x: x.nunique(), 0)"
   ]
  },
  {
   "cell_type": "code",
   "execution_count": 23,
   "metadata": {},
   "outputs": [
    {
     "data": {
      "image/png": "[encoded data removed]",
      "text/plain": [
       "<Figure size 1080x360 with 1 Axes>"
      ]
     },
     "metadata": {
      "needs_background": "light"
     },
     "output_type": "display_data"
    }
   ],
   "source": [
    "plt.figure(figsize = (15,5))\n",
    "sns.distplot(pure.groupby('item_id').size(), rug=True)\n",
    "plt.title('# of sales transactions per product, distribution plot');"
   ]
  },
  {
   "cell_type": "markdown",
   "metadata": {},
   "source": [
    "In fact, there is a number of products exceeding even the 200 threshold."
   ]
  },
  {
   "cell_type": "markdown",
   "metadata": {},
   "source": [
    "**Dropping products with no more than 200 transactions registered**"
   ]
  },
  {
   "cell_type": "code",
   "execution_count": 60,
   "metadata": {},
   "outputs": [],
   "source": [
    "pure = pd.merge(pure, pure.groupby('item_id').size().rename('n_trans'), how='left', on='item_id')"
   ]
  },
  {
   "cell_type": "code",
   "execution_count": 63,
   "metadata": {},
   "outputs": [
    {
     "data": {
      "text/plain": [
       "(4798, 18)"
      ]
     },
     "execution_count": 63,
     "metadata": {},
     "output_type": "execute_result"
    }
   ],
   "source": [
    "pure.loc[pure['n_trans'] > 200, :].shape"
   ]
  },
  {
   "cell_type": "markdown",
   "metadata": {},
   "source": [
    "Reduced dataset contains almost 4800 observations on 533 distinct dates, 625 customers and 16 products by 8 brands, both local and established (the only two brand type categories in the entire dataset)"
   ]
  },
  {
   "cell_type": "code",
   "execution_count": 64,
   "metadata": {},
   "outputs": [
    {
     "data": {
      "text/plain": [
       "date               533\n",
       "customer_id        625\n",
       "item_id             16\n",
       "quantity             7\n",
       "selling_price      113\n",
       "other_discount     110\n",
       "coupon_discount      8\n",
       "brand                8\n",
       "brand_type           2\n",
       "category             1\n",
       "age_range            6\n",
       "marital_status       2\n",
       "rented               2\n",
       "family_size          5\n",
       "no_of_children       3\n",
       "income_bracket      12\n",
       "n_trips            144\n",
       "n_trans             15\n",
       "dtype: int64"
      ]
     },
     "execution_count": 64,
     "metadata": {},
     "output_type": "execute_result"
    }
   ],
   "source": [
    "pure.loc[pure['n_trans'] > 200, :].apply(lambda x: x.nunique(), 0)"
   ]
  },
  {
   "cell_type": "code",
   "execution_count": 65,
   "metadata": {},
   "outputs": [],
   "source": [
    "pure = pure.loc[pure['n_trans'] > 200, :]"
   ]
  },
  {
   "cell_type": "code",
   "execution_count": 25,
   "metadata": {},
   "outputs": [
    {
     "data": {
      "image/png": "[encoded data removed]",
      "text/plain": [
       "<Figure size 1080x360 with 1 Axes>"
      ]
     },
     "metadata": {
      "needs_background": "light"
     },
     "output_type": "display_data"
    }
   ],
   "source": [
    "plt.figure(figsize=(15,5))\n",
    "sns.distplot(pure.groupby('customer_id').size())\n",
    "plt.title('# of observations per customer in the fully-reduced dataset (distribution plot)');"
   ]
  }
 ],
 "metadata": {
  "kernelspec": {
   "display_name": "Python 3",
   "language": "python",
   "name": "python3"
  },
  "language_info": {
   "codemirror_mode": {
    "name": "ipython",
    "version": 3
   },
   "file_extension": ".py",
   "mimetype": "text/x-python",
   "name": "python",
   "nbconvert_exporter": "python",
   "pygments_lexer": "ipython3",
   "version": "3.7.3"
  }
 },
 "nbformat": 4,
 "nbformat_minor": 4
}
